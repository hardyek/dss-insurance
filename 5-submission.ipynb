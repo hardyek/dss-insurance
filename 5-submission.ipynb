{
 "cells": [
  {
   "cell_type": "code",
   "execution_count": 1,
   "metadata": {},
   "outputs": [],
   "source": [
    "import pandas as pd\n",
    "import numpy as np\n",
    "from sklearn.compose import ColumnTransformer\n",
    "from sklearn.preprocessing import StandardScaler, OneHotEncoder\n",
    "from sklearn.pipeline import Pipeline\n",
    "import joblib"
   ]
  },
  {
   "cell_type": "code",
   "execution_count": 3,
   "metadata": {},
   "outputs": [],
   "source": [
    "test_df = pd.read_csv('data/insurance_test.csv')"
   ]
  },
  {
   "cell_type": "code",
   "execution_count": 5,
   "metadata": {},
   "outputs": [],
   "source": [
    "preprocessor = joblib.load('models/preprocessor.pkl')"
   ]
  },
  {
   "cell_type": "code",
   "execution_count": null,
   "metadata": {},
   "outputs": [],
   "source": [
    "# Same as from feature engineering on the training set\n",
    "\n",
    "categorical_cols = ['sex', 'smoker', 'region', 'bmi_category', 'age_group', 'bmi_risk_tier']\n",
    "numerical_cols = ['age', 'bmi', 'children', 'age_squared', 'age_cubed', 'sqrt_age', \n",
    "                    'log_age', 'is_obese', 'bmi_squared', 'log_bmi', 'age_bmi', \n",
    "                    'smoker_numeric', 'age_smoker', 'age_bmi_smoker', 'is_high_risk', \n",
    "                    'is_young_smoker', 'is_old_smoker', 'has_children', 'many_children', \n",
    "                    'age_per_child', 'children_bmi', 'region_avg_expense', \n",
    "                    'is_northwest', 'smoker_northwest', 'is_southwest', 'smoker_southwest', \n",
    "                    'is_southeast', 'smoker_southeast', 'is_northeast', 'smoker_northeast', \n",
    "                    'age_premium_factor', 'family_risk', 'smoker_severity']\n",
    "\n",
    "test_df['age_squared'] = test_df['age'] ** 2\n",
    "test_df['age_cubed'] = test_df['age'] ** 3\n",
    "test_df['sqrt_age'] = np.sqrt(test_df['age'])\n",
    "test_df['log_age'] = np.log1p(test_df['age'])\n",
    "\n",
    "test_df['age_group'] = pd.cut(test_df['age'], bins=[0, 18, 25, 35, 50, 65, 100], \n",
    "                        labels=['0-18', '19-25', '26-35', '36-50', '51-65', '65+'])\n",
    "\n",
    "test_df['bmi_squared'] = test_df['bmi'] ** 2\n",
    "test_df['log_bmi'] = np.log1p(test_df['bmi'])\n",
    "\n",
    "test_df['bmi_category'] = pd.cut(test_df['bmi'], bins=[0, 18.5, 25, 30, 35, 100], \n",
    "                            labels=['Underweight', 'Normal', 'Overweight', 'Obese', 'Severely_Obese'])\n",
    "test_df['bmi_risk_tier'] = pd.qcut(test_df['bmi'], 5, labels=['Very Low', 'Low', 'Medium', 'High', 'Very High'])\n",
    "test_df['is_obese'] = (test_df['bmi'] >= 30).astype(int)\n",
    "\n",
    "test_df['smoker_numeric'] = (test_df['smoker'] == 'yes').astype(int)\n",
    "\n",
    "test_df['age_bmi'] = test_df['age'] * test_df['bmi']\n",
    "test_df['age_smoker'] = test_df['age'] * test_df['smoker_numeric']\n",
    "test_df['bmi_smoker'] = test_df['bmi'] * test_df['smoker_numeric']\n",
    "test_df['age_bmi_smoker'] = test_df['age'] * test_df['bmi'] * test_df['smoker_numeric']\n",
    "\n",
    "test_df['is_high_risk'] = ((test_df['smoker'] == 'yes') & (test_df['bmi'] > 30)).astype(int)\n",
    "test_df['is_young_smoker'] = ((test_df['smoker'] == 'yes') & (test_df['age'] < 30)).astype(int)\n",
    "test_df['is_old_smoker'] = ((test_df['smoker'] == 'yes') & (test_df['age'] > 50)).astype(int)\n",
    "\n",
    "test_df['has_children'] = (test_df['children'] > 0).astype(int)\n",
    "test_df['many_children'] = (test_df['children'] >= 3).astype(int)\n",
    "test_df['age_per_child'] = test_df['age'] / (test_df['children'] + 1)\n",
    "test_df['children_bmi'] = test_df['children'] * test_df['bmi']\n",
    "\n",
    "# Taken from the training set of course we don't know this for the test set\n",
    "region_avg_expense = {\n",
    "    'northwest': 12367.27247, \n",
    "    'northeast': 13625.194749,\n",
    "    'southwest': 12486.716527,\n",
    "    'southeast': 14464.178021\n",
    "}\n",
    "test_df['region_avg_expense'] = test_df['region'].map(region_avg_expense)\n",
    "\n",
    "for region in ['northwest', 'southwest', 'southeast', 'northeast']:\n",
    "    test_df[f'is_{region}'] = (test_df['region'] == region).astype(int)\n",
    "    test_df[f'smoker_{region}'] = ((test_df['region'] == region) & \n",
    "                                    (test_df['smoker'] == 'yes')).astype(int)\n",
    "\n",
    "test_df['age_premium_factor'] = 1 + (test_df['age'] / 50) ** 1.5\n",
    "test_df['smoker_severity'] = test_df['smoker_numeric'] * (1 + (test_df['age'] / 100))\n",
    "test_df['family_risk'] = test_df['bmi'] * (1 + 0.2 * test_df['children']) * np.where(test_df['smoker'] == 'yes', 1.5, 1)\n",
    "\n",
    "X_test = test_df[numerical_cols + categorical_cols]\n",
    "X_test_processed = preprocessor.transform(X_test)"
   ]
  },
  {
   "cell_type": "code",
   "execution_count": 24,
   "metadata": {},
   "outputs": [],
   "source": [
    "rf_model = joblib.load('random_forest_model.pkl')\n",
    "xgb_model = joblib.load('tuned_xgboost_model.pkl')\n",
    "rf_predictions = rf_model.predict(X_test_processed)\n",
    "xgb_predictions = xgb_model.predict(X_test_processed)"
   ]
  },
  {
   "cell_type": "code",
   "execution_count": null,
   "metadata": {},
   "outputs": [],
   "source": [
    "# From notebook 4\n",
    "rf_w = 0.4943\n",
    "xgb_w = 0.5057"
   ]
  },
  {
   "cell_type": "code",
   "execution_count": null,
   "metadata": {},
   "outputs": [],
   "source": [
    "submissions = {\n",
    "    'rf': rf_predictions,\n",
    "    'xgb': xgb_predictions,\n",
    "    'avg_ensemble': (rf_predictions + xgb_predictions) / 2,\n",
    "    'weighted_ensemble': rf_w * rf_predictions + xgb_w * xgb_predictions\n",
    "}\n",
    "\n",
    "chosen_model = 'weighted_ensemble'\n",
    "\n",
    "submission_df = pd.DataFrame({\n",
    "    'id': test_df.index + 1 if 'id' not in test_df.columns else test_df['id'],\n",
    "    'expenses_pred': submissions[chosen_model]\n",
    "})\n",
    "\n",
    "submission_df.to_csv('hardy_predictions.csv', index=False)"
   ]
  },
  {
   "cell_type": "markdown",
   "metadata": {},
   "source": [
    "The submissions are not completely identical to my competition ones because I didn't use random seed during the competition I just added it in retrospect\n",
    "\n",
    "`hardy_predictions.csv` is the competition predictions\n",
    "\n",
    "`submission.csv` is generated now using this code (identical just using random seed 1004)"
   ]
  }
 ],
 "metadata": {
  "kernelspec": {
   "display_name": "Python 3",
   "language": "python",
   "name": "python3"
  },
  "language_info": {
   "codemirror_mode": {
    "name": "ipython",
    "version": 3
   },
   "file_extension": ".py",
   "mimetype": "text/x-python",
   "name": "python",
   "nbconvert_exporter": "python",
   "pygments_lexer": "ipython3",
   "version": "3.13.0"
  }
 },
 "nbformat": 4,
 "nbformat_minor": 2
}
